{
 "cells": [
  {
   "cell_type": "code",
   "execution_count": 3,
   "id": "412a58e2",
   "metadata": {},
   "outputs": [],
   "source": [
    "import pandas as pd\n",
    "import numpy as np\n",
    "import math\n",
    "import seaborn as sns\n",
    "import matplotlib.pyplot as plt\n",
    "from ipywidgets import interact, widgets\n",
    "from IPython.display import display, clear_output"
   ]
  },
  {
   "cell_type": "code",
   "execution_count": 1,
   "id": "b8aaff6a",
   "metadata": {},
   "outputs": [
    {
     "name": "stdout",
     "output_type": "stream",
     "text": [
      "           ano sigla_uf sigla_uf_nome id_municipio id_municipio_nome  \\\n",
      "0         2022       RO      Rondônia      1100049            Cacoal   \n",
      "1         2022       RO      Rondônia      1100049            Cacoal   \n",
      "2         2022       RO      Rondônia      1100122         Ji-Paraná   \n",
      "3         2022       AC          Acre      1200401        Rio Branco   \n",
      "4         2022       AC          Acre      1200401        Rio Branco   \n",
      "...        ...      ...           ...          ...               ...   \n",
      "15513994  2017       SP     São Paulo      3550308         São Paulo   \n",
      "15513995  2017       SP     São Paulo      3550308         São Paulo   \n",
      "15513996  2017       SP     São Paulo      3550308         São Paulo   \n",
      "15513997  2017       SP     São Paulo      3550308         São Paulo   \n",
      "15513998  2017       SP     São Paulo      3550308         São Paulo   \n",
      "\n",
      "             bairro_revenda cep_revenda  \\\n",
      "0                 Teixeirao    76965674   \n",
      "1                 Teixeirao    76965674   \n",
      "2                Casa Preta    78962500   \n",
      "3         Conjunto Rui Lino    69919850   \n",
      "4         Conjunto Rui Lino    69919850   \n",
      "...                     ...         ...   \n",
      "15513994         Nova Mooca    03176000   \n",
      "15513995         Nova Mooca    03176000   \n",
      "15513996         Nova Mooca    03176000   \n",
      "15513997         Nova Mooca    03176000   \n",
      "15513998              Mooca    03180001   \n",
      "\n",
      "                                  endereco_revenda     cnpj_revenda  \\\n",
      "0                 Avenida Das Comunicacoes, 2972,    07219464000647   \n",
      "1                 Avenida Das Comunicacoes, 2972,    07219464000647   \n",
      "2                 Avenida Transcontinental, 2316,    07228583000151   \n",
      "3         Avenida Governador Edmundo Pinto, 1502,    07466381000148   \n",
      "4         Avenida Governador Edmundo Pinto, 1502,    07466381000148   \n",
      "...                                            ...              ...   \n",
      "15513994                 Rua Tobias Barreto, 451,    09300378000185   \n",
      "15513995                 Rua Tobias Barreto, 451,    09300378000185   \n",
      "15513996                 Rua Tobias Barreto, 451,    09300378000185   \n",
      "15513997                 Rua Tobias Barreto, 451,    09300378000185   \n",
      "15513998                Rua Fernando Falcao, 537,    05335456000126   \n",
      "\n",
      "                                       nome_estabelecimento  \\\n",
      "0                                  Auto Posto Soberano Ltda   \n",
      "1                                  Auto Posto Soberano Ltda   \n",
      "2         Petro Rondonia Distribuidora De Com. E Transpo...   \n",
      "3                                Joafra - Auto Posto Eireli   \n",
      "4                                Joafra - Auto Posto Eireli   \n",
      "...                                                     ...   \n",
      "15513994                 Posto De Servicos Nova Mooca Ltda.   \n",
      "15513995                 Posto De Servicos Nova Mooca Ltda.   \n",
      "15513996                 Posto De Servicos Nova Mooca Ltda.   \n",
      "15513997                 Posto De Servicos Nova Mooca Ltda.   \n",
      "15513998                                Auto Posto Lik Ltda   \n",
      "\n",
      "                      bandeira_revenda data_coleta             produto  \\\n",
      "0                        Vibra Energia  2022-07-20  Gasolina Aditivada   \n",
      "1                        Vibra Energia  2022-09-08  Gasolina Aditivada   \n",
      "2                             Ipiranga  2022-08-17  Gasolina Aditivada   \n",
      "3                             Ipiranga  2022-02-15  Gasolina Aditivada   \n",
      "4                             Ipiranga  2022-12-19  Gasolina Aditivada   \n",
      "...                                ...         ...                 ...   \n",
      "15513994                        Branca  2017-10-19              Etanol   \n",
      "15513995                        Branca  2017-07-25          Diesel S10   \n",
      "15513996  Petrobras Distribuidora S.A.  2017-03-21              Etanol   \n",
      "15513997  Petrobras Distribuidora S.A.  2017-02-14          Diesel S10   \n",
      "15513998                        Branca  2017-02-14          Diesel S10   \n",
      "\n",
      "         unidade_medida  preco_compra  preco_venda  \n",
      "0              R$/litro           NaN        6.250  \n",
      "1              R$/litro           NaN        5.530  \n",
      "2              R$/litro           NaN        5.800  \n",
      "3              R$/litro           NaN        7.090  \n",
      "4              R$/litro           NaN        5.390  \n",
      "...                 ...           ...          ...  \n",
      "15513994       R$/litro           NaN        2.349  \n",
      "15513995       R$/litro           NaN        2.999  \n",
      "15513996       R$/litro        2.1079        2.499  \n",
      "15513997       R$/litro        2.8936        3.299  \n",
      "15513998       R$/litro        2.5650        2.799  \n",
      "\n",
      "[15513999 rows x 16 columns]\n"
     ]
    }
   ],
   "source": [
    "from google.cloud import bigquery\n",
    "from google.oauth2 import service_account\n",
    "\n",
    "# Caminho para o arquivo JSON da conta de serviço\n",
    "key_path = r\"C:\\BIGQUERY_KEY_PATH\\rock-tower-454219-t2-f2eeba73d76a.json\"\n",
    "\n",
    "# Carregar as credenciais\n",
    "credentials = service_account.Credentials.from_service_account_file(key_path)\n",
    "\n",
    "# Criar o cliente BigQuery com as credenciais\n",
    "client = bigquery.Client(project='rock-tower-454219-t2', credentials=credentials, location='US')\n",
    "\n",
    "# Exemplo de consulta\n",
    "query = \"\"\"\n",
    "   SELECT\n",
    "    dados.ano as ano,\n",
    "    dados.sigla_uf AS sigla_uf,\n",
    "    diretorio_sigla_uf.nome AS sigla_uf_nome,\n",
    "    dados.id_municipio AS id_municipio,\n",
    "    diretorio_id_municipio.nome AS id_municipio_nome,\n",
    "    dados.bairro_revenda as bairro_revenda,\n",
    "    dados.cep_revenda as cep_revenda,\n",
    "    dados.endereco_revenda as endereco_revenda,\n",
    "    dados.cnpj_revenda as cnpj_revenda,\n",
    "    dados.nome_estabelecimento as nome_estabelecimento,\n",
    "    dados.bandeira_revenda as bandeira_revenda,\n",
    "    dados.data_coleta as data_coleta,\n",
    "    dados.produto as produto,\n",
    "    dados.unidade_medida as unidade_medida,\n",
    "    dados.preco_compra as preco_compra,\n",
    "    dados.preco_venda as preco_venda\n",
    "FROM `basedosdados.br_anp_precos_combustiveis.microdados` AS dados\n",
    "LEFT JOIN (SELECT DISTINCT sigla,nome  FROM `basedosdados.br_bd_diretorios_brasil.uf`) AS diretorio_sigla_uf\n",
    "    ON dados.sigla_uf = diretorio_sigla_uf.sigla\n",
    "LEFT JOIN (SELECT DISTINCT id_municipio,nome  FROM `basedosdados.br_bd_diretorios_brasil.municipio`) AS diretorio_id_municipio\n",
    "    ON dados.id_municipio = diretorio_id_municipio.id_municipio\n",
    "\"\"\"\n",
    "\n",
    "# Executar a consulta\n",
    "job = client.query(query)\n",
    "results = job.to_dataframe()\n",
    "print(results)"
   ]
  },
  {
   "cell_type": "code",
   "execution_count": 2,
   "id": "c877610e",
   "metadata": {},
   "outputs": [
    {
     "name": "stdout",
     "output_type": "stream",
     "text": [
      "<class 'pandas.core.frame.DataFrame'>\n",
      "RangeIndex: 15513999 entries, 0 to 15513998\n",
      "Data columns (total 16 columns):\n",
      " #   Column                Dtype  \n",
      "---  ------                -----  \n",
      " 0   ano                   Int64  \n",
      " 1   sigla_uf              object \n",
      " 2   sigla_uf_nome         object \n",
      " 3   id_municipio          object \n",
      " 4   id_municipio_nome     object \n",
      " 5   bairro_revenda        object \n",
      " 6   cep_revenda           object \n",
      " 7   endereco_revenda      object \n",
      " 8   cnpj_revenda          object \n",
      " 9   nome_estabelecimento  object \n",
      " 10  bandeira_revenda      object \n",
      " 11  data_coleta           dbdate \n",
      " 12  produto               object \n",
      " 13  unidade_medida        object \n",
      " 14  preco_compra          float64\n",
      " 15  preco_venda           float64\n",
      "dtypes: Int64(1), dbdate(1), float64(2), object(12)\n",
      "memory usage: 1.9+ GB\n"
     ]
    }
   ],
   "source": [
    "results.info()"
   ]
  },
  {
   "cell_type": "code",
   "execution_count": 4,
   "id": "bc460265",
   "metadata": {},
   "outputs": [
    {
     "data": {
      "text/plain": [
       "(15513999, 16)"
      ]
     },
     "execution_count": 4,
     "metadata": {},
     "output_type": "execute_result"
    }
   ],
   "source": [
    "results.shape"
   ]
  },
  {
   "cell_type": "code",
   "execution_count": 5,
   "id": "9cddbb97",
   "metadata": {},
   "outputs": [],
   "source": [
    "results['data_coleta'] = pd.to_datetime(results['data_coleta'])"
   ]
  },
  {
   "cell_type": "code",
   "execution_count": 6,
   "id": "593edbe8",
   "metadata": {},
   "outputs": [
    {
     "name": "stdout",
     "output_type": "stream",
     "text": [
      "<class 'pandas.core.frame.DataFrame'>\n",
      "RangeIndex: 15513999 entries, 0 to 15513998\n",
      "Data columns (total 16 columns):\n",
      " #   Column                Dtype         \n",
      "---  ------                -----         \n",
      " 0   ano                   Int64         \n",
      " 1   sigla_uf              object        \n",
      " 2   sigla_uf_nome         object        \n",
      " 3   id_municipio          object        \n",
      " 4   id_municipio_nome     object        \n",
      " 5   bairro_revenda        object        \n",
      " 6   cep_revenda           object        \n",
      " 7   endereco_revenda      object        \n",
      " 8   cnpj_revenda          object        \n",
      " 9   nome_estabelecimento  object        \n",
      " 10  bandeira_revenda      object        \n",
      " 11  data_coleta           datetime64[ns]\n",
      " 12  produto               object        \n",
      " 13  unidade_medida        object        \n",
      " 14  preco_compra          float64       \n",
      " 15  preco_venda           float64       \n",
      "dtypes: Int64(1), datetime64[ns](1), float64(2), object(12)\n",
      "memory usage: 1.9+ GB\n"
     ]
    }
   ],
   "source": [
    "results.info()"
   ]
  },
  {
   "cell_type": "code",
   "execution_count": 7,
   "id": "aaa55739",
   "metadata": {},
   "outputs": [
    {
     "data": {
      "text/plain": [
       "ano                            0\n",
       "sigla_uf                       0\n",
       "sigla_uf_nome                  0\n",
       "id_municipio                   0\n",
       "id_municipio_nome              0\n",
       "bairro_revenda             35031\n",
       "cep_revenda                    0\n",
       "endereco_revenda               0\n",
       "cnpj_revenda                   0\n",
       "nome_estabelecimento           0\n",
       "bandeira_revenda               8\n",
       "data_coleta                    0\n",
       "produto                        0\n",
       "unidade_medida                 7\n",
       "preco_compra            10609827\n",
       "preco_venda                    0\n",
       "dtype: int64"
      ]
     },
     "execution_count": 7,
     "metadata": {},
     "output_type": "execute_result"
    }
   ],
   "source": [
    "results.isnull().sum()"
   ]
  },
  {
   "cell_type": "code",
   "execution_count": 8,
   "id": "78f8a7c7",
   "metadata": {},
   "outputs": [
    {
     "data": {
      "text/plain": [
       "(15513999, 16)"
      ]
     },
     "execution_count": 8,
     "metadata": {},
     "output_type": "execute_result"
    }
   ],
   "source": [
    "results.shape"
   ]
  },
  {
   "cell_type": "code",
   "execution_count": 9,
   "id": "61157587",
   "metadata": {},
   "outputs": [
    {
     "data": {
      "application/vnd.microsoft.datawrangler.viewer.v0+json": {
       "columns": [
        {
         "name": "index",
         "rawType": "object",
         "type": "string"
        },
        {
         "name": "ano",
         "rawType": "Float64",
         "type": "float"
        },
        {
         "name": "data_coleta",
         "rawType": "object",
         "type": "unknown"
        },
        {
         "name": "preco_compra",
         "rawType": "float64",
         "type": "float"
        },
        {
         "name": "preco_venda",
         "rawType": "float64",
         "type": "float"
        }
       ],
       "conversionMethod": "pd.DataFrame",
       "ref": "ca65499c-a29a-49df-b84c-0d0c03a1f69d",
       "rows": [
        [
         "count",
         "15513999.0",
         "15513999",
         "4904172.0",
         "15513999.0"
        ],
        [
         "mean",
         "2015.11",
         "2015-07-21 16:59:53.413767424",
         "8.65",
         "17.01"
        ],
        [
         "min",
         "2004.0",
         "2004-05-10 00:00:00",
         "0.33",
         "0.59"
        ],
        [
         "25%",
         "2010.0",
         "2010-04-13 00:00:00",
         "1.76",
         "2.5"
        ],
        [
         "50%",
         "2015.0",
         "2015-07-01 00:00:00",
         "2.28",
         "3.89"
        ],
        [
         "75%",
         "2021.0",
         "2021-07-13 00:00:00",
         "3.43",
         "29.0"
        ],
        [
         "max",
         "2025.0",
         "2025-02-21 00:00:00",
         "94.5",
         "170.0"
        ],
        [
         "std",
         "6.13",
         null,
         "13.61",
         "26.6"
        ]
       ],
       "shape": {
        "columns": 4,
        "rows": 8
       }
      },
      "text/html": [
       "<div>\n",
       "<style scoped>\n",
       "    .dataframe tbody tr th:only-of-type {\n",
       "        vertical-align: middle;\n",
       "    }\n",
       "\n",
       "    .dataframe tbody tr th {\n",
       "        vertical-align: top;\n",
       "    }\n",
       "\n",
       "    .dataframe thead th {\n",
       "        text-align: right;\n",
       "    }\n",
       "</style>\n",
       "<table border=\"1\" class=\"dataframe\">\n",
       "  <thead>\n",
       "    <tr style=\"text-align: right;\">\n",
       "      <th></th>\n",
       "      <th>ano</th>\n",
       "      <th>data_coleta</th>\n",
       "      <th>preco_compra</th>\n",
       "      <th>preco_venda</th>\n",
       "    </tr>\n",
       "  </thead>\n",
       "  <tbody>\n",
       "    <tr>\n",
       "      <th>count</th>\n",
       "      <td>15513999.0</td>\n",
       "      <td>15513999</td>\n",
       "      <td>4904172.00</td>\n",
       "      <td>15513999.00</td>\n",
       "    </tr>\n",
       "    <tr>\n",
       "      <th>mean</th>\n",
       "      <td>2015.11</td>\n",
       "      <td>2015-07-21 16:59:53.413767424</td>\n",
       "      <td>8.65</td>\n",
       "      <td>17.01</td>\n",
       "    </tr>\n",
       "    <tr>\n",
       "      <th>min</th>\n",
       "      <td>2004.0</td>\n",
       "      <td>2004-05-10 00:00:00</td>\n",
       "      <td>0.33</td>\n",
       "      <td>0.59</td>\n",
       "    </tr>\n",
       "    <tr>\n",
       "      <th>25%</th>\n",
       "      <td>2010.0</td>\n",
       "      <td>2010-04-13 00:00:00</td>\n",
       "      <td>1.76</td>\n",
       "      <td>2.50</td>\n",
       "    </tr>\n",
       "    <tr>\n",
       "      <th>50%</th>\n",
       "      <td>2015.0</td>\n",
       "      <td>2015-07-01 00:00:00</td>\n",
       "      <td>2.28</td>\n",
       "      <td>3.89</td>\n",
       "    </tr>\n",
       "    <tr>\n",
       "      <th>75%</th>\n",
       "      <td>2021.0</td>\n",
       "      <td>2021-07-13 00:00:00</td>\n",
       "      <td>3.43</td>\n",
       "      <td>29.00</td>\n",
       "    </tr>\n",
       "    <tr>\n",
       "      <th>max</th>\n",
       "      <td>2025.0</td>\n",
       "      <td>2025-02-21 00:00:00</td>\n",
       "      <td>94.50</td>\n",
       "      <td>170.00</td>\n",
       "    </tr>\n",
       "    <tr>\n",
       "      <th>std</th>\n",
       "      <td>6.13</td>\n",
       "      <td>NaN</td>\n",
       "      <td>13.61</td>\n",
       "      <td>26.60</td>\n",
       "    </tr>\n",
       "  </tbody>\n",
       "</table>\n",
       "</div>"
      ],
      "text/plain": [
       "              ano                    data_coleta  preco_compra  preco_venda\n",
       "count  15513999.0                       15513999    4904172.00  15513999.00\n",
       "mean      2015.11  2015-07-21 16:59:53.413767424          8.65        17.01\n",
       "min        2004.0            2004-05-10 00:00:00          0.33         0.59\n",
       "25%        2010.0            2010-04-13 00:00:00          1.76         2.50\n",
       "50%        2015.0            2015-07-01 00:00:00          2.28         3.89\n",
       "75%        2021.0            2021-07-13 00:00:00          3.43        29.00\n",
       "max        2025.0            2025-02-21 00:00:00         94.50       170.00\n",
       "std          6.13                            NaN         13.61        26.60"
      ]
     },
     "execution_count": 9,
     "metadata": {},
     "output_type": "execute_result"
    }
   ],
   "source": [
    "results.describe().round(2)"
   ]
  },
  {
   "cell_type": "code",
   "execution_count": 10,
   "id": "4e524e8c",
   "metadata": {},
   "outputs": [],
   "source": [
    "df_anp = results[['data_coleta','sigla_uf', 'sigla_uf_nome','id_municipio_nome','nome_estabelecimento','bandeira_revenda', 'produto','preco_venda']]"
   ]
  },
  {
   "cell_type": "code",
   "execution_count": 11,
   "id": "43cf3d18",
   "metadata": {},
   "outputs": [
    {
     "data": {
      "application/vnd.microsoft.datawrangler.viewer.v0+json": {
       "columns": [
        {
         "name": "index",
         "rawType": "int64",
         "type": "integer"
        },
        {
         "name": "data_coleta",
         "rawType": "datetime64[ns]",
         "type": "datetime"
        },
        {
         "name": "sigla_uf",
         "rawType": "object",
         "type": "string"
        },
        {
         "name": "sigla_uf_nome",
         "rawType": "object",
         "type": "string"
        },
        {
         "name": "id_municipio_nome",
         "rawType": "object",
         "type": "string"
        },
        {
         "name": "nome_estabelecimento",
         "rawType": "object",
         "type": "string"
        },
        {
         "name": "bandeira_revenda",
         "rawType": "object",
         "type": "string"
        },
        {
         "name": "produto",
         "rawType": "object",
         "type": "string"
        },
        {
         "name": "preco_venda",
         "rawType": "float64",
         "type": "float"
        }
       ],
       "conversionMethod": "pd.DataFrame",
       "ref": "4a92dc67-b615-46fd-ab46-aac8d80d34b5",
       "rows": [
        [
         "0",
         "2022-07-20 00:00:00",
         "RO",
         "Rondônia",
         "Cacoal",
         "Auto Posto Soberano Ltda",
         "Vibra Energia",
         "Gasolina Aditivada",
         "6.25"
        ],
        [
         "1",
         "2022-09-08 00:00:00",
         "RO",
         "Rondônia",
         "Cacoal",
         "Auto Posto Soberano Ltda",
         "Vibra Energia",
         "Gasolina Aditivada",
         "5.53"
        ]
       ],
       "shape": {
        "columns": 8,
        "rows": 2
       }
      },
      "text/html": [
       "<div>\n",
       "<style scoped>\n",
       "    .dataframe tbody tr th:only-of-type {\n",
       "        vertical-align: middle;\n",
       "    }\n",
       "\n",
       "    .dataframe tbody tr th {\n",
       "        vertical-align: top;\n",
       "    }\n",
       "\n",
       "    .dataframe thead th {\n",
       "        text-align: right;\n",
       "    }\n",
       "</style>\n",
       "<table border=\"1\" class=\"dataframe\">\n",
       "  <thead>\n",
       "    <tr style=\"text-align: right;\">\n",
       "      <th></th>\n",
       "      <th>data_coleta</th>\n",
       "      <th>sigla_uf</th>\n",
       "      <th>sigla_uf_nome</th>\n",
       "      <th>id_municipio_nome</th>\n",
       "      <th>nome_estabelecimento</th>\n",
       "      <th>bandeira_revenda</th>\n",
       "      <th>produto</th>\n",
       "      <th>preco_venda</th>\n",
       "    </tr>\n",
       "  </thead>\n",
       "  <tbody>\n",
       "    <tr>\n",
       "      <th>0</th>\n",
       "      <td>2022-07-20</td>\n",
       "      <td>RO</td>\n",
       "      <td>Rondônia</td>\n",
       "      <td>Cacoal</td>\n",
       "      <td>Auto Posto Soberano Ltda</td>\n",
       "      <td>Vibra Energia</td>\n",
       "      <td>Gasolina Aditivada</td>\n",
       "      <td>6.25</td>\n",
       "    </tr>\n",
       "    <tr>\n",
       "      <th>1</th>\n",
       "      <td>2022-09-08</td>\n",
       "      <td>RO</td>\n",
       "      <td>Rondônia</td>\n",
       "      <td>Cacoal</td>\n",
       "      <td>Auto Posto Soberano Ltda</td>\n",
       "      <td>Vibra Energia</td>\n",
       "      <td>Gasolina Aditivada</td>\n",
       "      <td>5.53</td>\n",
       "    </tr>\n",
       "  </tbody>\n",
       "</table>\n",
       "</div>"
      ],
      "text/plain": [
       "  data_coleta sigla_uf sigla_uf_nome id_municipio_nome  \\\n",
       "0  2022-07-20       RO      Rondônia            Cacoal   \n",
       "1  2022-09-08       RO      Rondônia            Cacoal   \n",
       "\n",
       "       nome_estabelecimento bandeira_revenda             produto  preco_venda  \n",
       "0  Auto Posto Soberano Ltda    Vibra Energia  Gasolina Aditivada         6.25  \n",
       "1  Auto Posto Soberano Ltda    Vibra Energia  Gasolina Aditivada         5.53  "
      ]
     },
     "execution_count": 11,
     "metadata": {},
     "output_type": "execute_result"
    }
   ],
   "source": [
    "df_anp.head(2)"
   ]
  },
  {
   "cell_type": "code",
   "execution_count": 12,
   "id": "4f42e520",
   "metadata": {},
   "outputs": [
    {
     "data": {
      "text/plain": [
       "array(['RO', 'AC', 'AM', 'MA', 'PA', 'TO', 'RR', 'AP', 'MG', 'RJ', 'DF',\n",
       "       'GO', 'MT', 'MS', 'SP', 'PR', 'SC', 'RS', 'ES', 'PB', 'CE', 'BA',\n",
       "       'PE', 'RN', 'PI', 'SE', 'AL'], dtype=object)"
      ]
     },
     "execution_count": 12,
     "metadata": {},
     "output_type": "execute_result"
    }
   ],
   "source": [
    "df_anp['sigla_uf'].unique()"
   ]
  }
 ],
 "metadata": {
  "kernelspec": {
   "display_name": "Python 3",
   "language": "python",
   "name": "python3"
  },
  "language_info": {
   "codemirror_mode": {
    "name": "ipython",
    "version": 3
   },
   "file_extension": ".py",
   "mimetype": "text/x-python",
   "name": "python",
   "nbconvert_exporter": "python",
   "pygments_lexer": "ipython3",
   "version": "3.13.2"
  }
 },
 "nbformat": 4,
 "nbformat_minor": 5
}
