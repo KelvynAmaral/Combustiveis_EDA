{
 "cells": [
  {
   "cell_type": "markdown",
   "id": "f0523a58",
   "metadata": {},
   "source": [
    "# Importando bibliotecas"
   ]
  },
  {
   "cell_type": "code",
   "execution_count": 3,
   "id": "412a58e2",
   "metadata": {},
   "outputs": [],
   "source": [
    "import pandas as pd\n",
    "import numpy as np\n",
    "import math\n",
    "import seaborn as sns\n",
    "import matplotlib.pyplot as plt\n",
    "from ipywidgets import interact, widgets\n",
    "from IPython.display import display, clear_output"
   ]
  },
  {
   "cell_type": "markdown",
   "id": "aaeeb787",
   "metadata": {},
   "source": [
    "# Importa base do Google BigQuery"
   ]
  },
  {
   "cell_type": "code",
   "execution_count": 1,
   "id": "b8aaff6a",
   "metadata": {},
   "outputs": [
    {
     "name": "stdout",
     "output_type": "stream",
     "text": [
      "           ano sigla_uf sigla_uf_nome id_municipio id_municipio_nome  \\\n",
      "0         2022       RO      Rondônia      1100049            Cacoal   \n",
      "1         2022       RO      Rondônia      1100049            Cacoal   \n",
      "2         2022       RO      Rondônia      1100122         Ji-Paraná   \n",
      "3         2022       AC          Acre      1200401        Rio Branco   \n",
      "4         2022       AC          Acre      1200401        Rio Branco   \n",
      "...        ...      ...           ...          ...               ...   \n",
      "15513994  2017       SP     São Paulo      3550308         São Paulo   \n",
      "15513995  2017       SP     São Paulo      3550308         São Paulo   \n",
      "15513996  2017       SP     São Paulo      3550308         São Paulo   \n",
      "15513997  2017       SP     São Paulo      3550308         São Paulo   \n",
      "15513998  2017       SP     São Paulo      3550308         São Paulo   \n",
      "\n",
      "             bairro_revenda cep_revenda  \\\n",
      "0                 Teixeirao    76965674   \n",
      "1                 Teixeirao    76965674   \n",
      "2                Casa Preta    78962500   \n",
      "3         Conjunto Rui Lino    69919850   \n",
      "4         Conjunto Rui Lino    69919850   \n",
      "...                     ...         ...   \n",
      "15513994         Nova Mooca    03176000   \n",
      "15513995         Nova Mooca    03176000   \n",
      "15513996         Nova Mooca    03176000   \n",
      "15513997         Nova Mooca    03176000   \n",
      "15513998              Mooca    03180001   \n",
      "\n",
      "                                  endereco_revenda     cnpj_revenda  \\\n",
      "0                 Avenida Das Comunicacoes, 2972,    07219464000647   \n",
      "1                 Avenida Das Comunicacoes, 2972,    07219464000647   \n",
      "2                 Avenida Transcontinental, 2316,    07228583000151   \n",
      "3         Avenida Governador Edmundo Pinto, 1502,    07466381000148   \n",
      "4         Avenida Governador Edmundo Pinto, 1502,    07466381000148   \n",
      "...                                            ...              ...   \n",
      "15513994                 Rua Tobias Barreto, 451,    09300378000185   \n",
      "15513995                 Rua Tobias Barreto, 451,    09300378000185   \n",
      "15513996                 Rua Tobias Barreto, 451,    09300378000185   \n",
      "15513997                 Rua Tobias Barreto, 451,    09300378000185   \n",
      "15513998                Rua Fernando Falcao, 537,    05335456000126   \n",
      "\n",
      "                                       nome_estabelecimento  \\\n",
      "0                                  Auto Posto Soberano Ltda   \n",
      "1                                  Auto Posto Soberano Ltda   \n",
      "2         Petro Rondonia Distribuidora De Com. E Transpo...   \n",
      "3                                Joafra - Auto Posto Eireli   \n",
      "4                                Joafra - Auto Posto Eireli   \n",
      "...                                                     ...   \n",
      "15513994                 Posto De Servicos Nova Mooca Ltda.   \n",
      "15513995                 Posto De Servicos Nova Mooca Ltda.   \n",
      "15513996                 Posto De Servicos Nova Mooca Ltda.   \n",
      "15513997                 Posto De Servicos Nova Mooca Ltda.   \n",
      "15513998                                Auto Posto Lik Ltda   \n",
      "\n",
      "                      bandeira_revenda data_coleta             produto  \\\n",
      "0                        Vibra Energia  2022-07-20  Gasolina Aditivada   \n",
      "1                        Vibra Energia  2022-09-08  Gasolina Aditivada   \n",
      "2                             Ipiranga  2022-08-17  Gasolina Aditivada   \n",
      "3                             Ipiranga  2022-02-15  Gasolina Aditivada   \n",
      "4                             Ipiranga  2022-12-19  Gasolina Aditivada   \n",
      "...                                ...         ...                 ...   \n",
      "15513994                        Branca  2017-10-19              Etanol   \n",
      "15513995                        Branca  2017-07-25          Diesel S10   \n",
      "15513996  Petrobras Distribuidora S.A.  2017-03-21              Etanol   \n",
      "15513997  Petrobras Distribuidora S.A.  2017-02-14          Diesel S10   \n",
      "15513998                        Branca  2017-02-14          Diesel S10   \n",
      "\n",
      "         unidade_medida  preco_compra  preco_venda  \n",
      "0              R$/litro           NaN        6.250  \n",
      "1              R$/litro           NaN        5.530  \n",
      "2              R$/litro           NaN        5.800  \n",
      "3              R$/litro           NaN        7.090  \n",
      "4              R$/litro           NaN        5.390  \n",
      "...                 ...           ...          ...  \n",
      "15513994       R$/litro           NaN        2.349  \n",
      "15513995       R$/litro           NaN        2.999  \n",
      "15513996       R$/litro        2.1079        2.499  \n",
      "15513997       R$/litro        2.8936        3.299  \n",
      "15513998       R$/litro        2.5650        2.799  \n",
      "\n",
      "[15513999 rows x 16 columns]\n"
     ]
    }
   ],
   "source": [
    "from google.cloud import bigquery\n",
    "from google.oauth2 import service_account\n",
    "\n",
    "# Caminho para o arquivo JSON da conta de serviço\n",
    "key_path = r\"C:\\BIGQUERY_KEY_PATH\\rock-tower-454219-t2-f2eeba73d76a.json\"\n",
    "\n",
    "# Carregar as credenciais\n",
    "credentials = service_account.Credentials.from_service_account_file(key_path)\n",
    "\n",
    "# Criar o cliente BigQuery com as credenciais\n",
    "client = bigquery.Client(project='rock-tower-454219-t2', credentials=credentials, location='US')\n",
    "\n",
    "# Exemplo de consulta\n",
    "query = \"\"\"\n",
    "   SELECT\n",
    "    dados.ano as ano,\n",
    "    dados.sigla_uf AS sigla_uf,\n",
    "    diretorio_sigla_uf.nome AS sigla_uf_nome,\n",
    "    dados.id_municipio AS id_municipio,\n",
    "    diretorio_id_municipio.nome AS id_municipio_nome,\n",
    "    dados.bairro_revenda as bairro_revenda,\n",
    "    dados.cep_revenda as cep_revenda,\n",
    "    dados.endereco_revenda as endereco_revenda,\n",
    "    dados.cnpj_revenda as cnpj_revenda,\n",
    "    dados.nome_estabelecimento as nome_estabelecimento,\n",
    "    dados.bandeira_revenda as bandeira_revenda,\n",
    "    dados.data_coleta as data_coleta,\n",
    "    dados.produto as produto,\n",
    "    dados.unidade_medida as unidade_medida,\n",
    "    dados.preco_compra as preco_compra,\n",
    "    dados.preco_venda as preco_venda\n",
    "FROM `basedosdados.br_anp_precos_combustiveis.microdados` AS dados\n",
    "LEFT JOIN (SELECT DISTINCT sigla,nome  FROM `basedosdados.br_bd_diretorios_brasil.uf`) AS diretorio_sigla_uf\n",
    "    ON dados.sigla_uf = diretorio_sigla_uf.sigla\n",
    "LEFT JOIN (SELECT DISTINCT id_municipio,nome  FROM `basedosdados.br_bd_diretorios_brasil.municipio`) AS diretorio_id_municipio\n",
    "    ON dados.id_municipio = diretorio_id_municipio.id_municipio\n",
    "\"\"\"\n",
    "\n",
    "# Executar a consulta\n",
    "job = client.query(query)\n",
    "results = job.to_dataframe()\n",
    "print(results)"
   ]
  },
  {
   "cell_type": "markdown",
   "id": "7a870367",
   "metadata": {},
   "source": [
    "# Explorando os dados da base"
   ]
  },
  {
   "cell_type": "code",
   "execution_count": 2,
   "id": "c877610e",
   "metadata": {},
   "outputs": [
    {
     "name": "stdout",
     "output_type": "stream",
     "text": [
      "<class 'pandas.core.frame.DataFrame'>\n",
      "RangeIndex: 15513999 entries, 0 to 15513998\n",
      "Data columns (total 16 columns):\n",
      " #   Column                Dtype  \n",
      "---  ------                -----  \n",
      " 0   ano                   Int64  \n",
      " 1   sigla_uf              object \n",
      " 2   sigla_uf_nome         object \n",
      " 3   id_municipio          object \n",
      " 4   id_municipio_nome     object \n",
      " 5   bairro_revenda        object \n",
      " 6   cep_revenda           object \n",
      " 7   endereco_revenda      object \n",
      " 8   cnpj_revenda          object \n",
      " 9   nome_estabelecimento  object \n",
      " 10  bandeira_revenda      object \n",
      " 11  data_coleta           dbdate \n",
      " 12  produto               object \n",
      " 13  unidade_medida        object \n",
      " 14  preco_compra          float64\n",
      " 15  preco_venda           float64\n",
      "dtypes: Int64(1), dbdate(1), float64(2), object(12)\n",
      "memory usage: 1.9+ GB\n"
     ]
    }
   ],
   "source": [
    "results.info()"
   ]
  },
  {
   "cell_type": "code",
   "execution_count": 4,
   "id": "bc460265",
   "metadata": {},
   "outputs": [
    {
     "data": {
      "text/plain": [
       "(15513999, 16)"
      ]
     },
     "execution_count": 4,
     "metadata": {},
     "output_type": "execute_result"
    }
   ],
   "source": [
    "results.shape"
   ]
  },
  {
   "cell_type": "code",
   "execution_count": 5,
   "id": "9cddbb97",
   "metadata": {},
   "outputs": [],
   "source": [
    "results['data_coleta'] = pd.to_datetime(results['data_coleta'])"
   ]
  },
  {
   "cell_type": "code",
   "execution_count": 6,
   "id": "593edbe8",
   "metadata": {},
   "outputs": [
    {
     "name": "stdout",
     "output_type": "stream",
     "text": [
      "<class 'pandas.core.frame.DataFrame'>\n",
      "RangeIndex: 15513999 entries, 0 to 15513998\n",
      "Data columns (total 16 columns):\n",
      " #   Column                Dtype         \n",
      "---  ------                -----         \n",
      " 0   ano                   Int64         \n",
      " 1   sigla_uf              object        \n",
      " 2   sigla_uf_nome         object        \n",
      " 3   id_municipio          object        \n",
      " 4   id_municipio_nome     object        \n",
      " 5   bairro_revenda        object        \n",
      " 6   cep_revenda           object        \n",
      " 7   endereco_revenda      object        \n",
      " 8   cnpj_revenda          object        \n",
      " 9   nome_estabelecimento  object        \n",
      " 10  bandeira_revenda      object        \n",
      " 11  data_coleta           datetime64[ns]\n",
      " 12  produto               object        \n",
      " 13  unidade_medida        object        \n",
      " 14  preco_compra          float64       \n",
      " 15  preco_venda           float64       \n",
      "dtypes: Int64(1), datetime64[ns](1), float64(2), object(12)\n",
      "memory usage: 1.9+ GB\n"
     ]
    }
   ],
   "source": [
    "results.info()"
   ]
  },
  {
   "cell_type": "code",
   "execution_count": 7,
   "id": "aaa55739",
   "metadata": {},
   "outputs": [
    {
     "data": {
      "text/plain": [
       "ano                            0\n",
       "sigla_uf                       0\n",
       "sigla_uf_nome                  0\n",
       "id_municipio                   0\n",
       "id_municipio_nome              0\n",
       "bairro_revenda             35031\n",
       "cep_revenda                    0\n",
       "endereco_revenda               0\n",
       "cnpj_revenda                   0\n",
       "nome_estabelecimento           0\n",
       "bandeira_revenda               8\n",
       "data_coleta                    0\n",
       "produto                        0\n",
       "unidade_medida                 7\n",
       "preco_compra            10609827\n",
       "preco_venda                    0\n",
       "dtype: int64"
      ]
     },
     "execution_count": 7,
     "metadata": {},
     "output_type": "execute_result"
    }
   ],
   "source": [
    "results.isnull().sum()"
   ]
  },
  {
   "cell_type": "code",
   "execution_count": 8,
   "id": "78f8a7c7",
   "metadata": {},
   "outputs": [
    {
     "data": {
      "text/plain": [
       "(15513999, 16)"
      ]
     },
     "execution_count": 8,
     "metadata": {},
     "output_type": "execute_result"
    }
   ],
   "source": [
    "results.shape"
   ]
  },
  {
   "cell_type": "code",
   "execution_count": 9,
   "id": "61157587",
   "metadata": {},
   "outputs": [
    {
     "data": {
      "application/vnd.microsoft.datawrangler.viewer.v0+json": {
       "columns": [
        {
         "name": "index",
         "rawType": "object",
         "type": "string"
        },
        {
         "name": "ano",
         "rawType": "Float64",
         "type": "float"
        },
        {
         "name": "data_coleta",
         "rawType": "object",
         "type": "unknown"
        },
        {
         "name": "preco_compra",
         "rawType": "float64",
         "type": "float"
        },
        {
         "name": "preco_venda",
         "rawType": "float64",
         "type": "float"
        }
       ],
       "conversionMethod": "pd.DataFrame",
       "ref": "ca65499c-a29a-49df-b84c-0d0c03a1f69d",
       "rows": [
        [
         "count",
         "15513999.0",
         "15513999",
         "4904172.0",
         "15513999.0"
        ],
        [
         "mean",
         "2015.11",
         "2015-07-21 16:59:53.413767424",
         "8.65",
         "17.01"
        ],
        [
         "min",
         "2004.0",
         "2004-05-10 00:00:00",
         "0.33",
         "0.59"
        ],
        [
         "25%",
         "2010.0",
         "2010-04-13 00:00:00",
         "1.76",
         "2.5"
        ],
        [
         "50%",
         "2015.0",
         "2015-07-01 00:00:00",
         "2.28",
         "3.89"
        ],
        [
         "75%",
         "2021.0",
         "2021-07-13 00:00:00",
         "3.43",
         "29.0"
        ],
        [
         "max",
         "2025.0",
         "2025-02-21 00:00:00",
         "94.5",
         "170.0"
        ],
        [
         "std",
         "6.13",
         null,
         "13.61",
         "26.6"
        ]
       ],
       "shape": {
        "columns": 4,
        "rows": 8
       }
      },
      "text/html": [
       "<div>\n",
       "<style scoped>\n",
       "    .dataframe tbody tr th:only-of-type {\n",
       "        vertical-align: middle;\n",
       "    }\n",
       "\n",
       "    .dataframe tbody tr th {\n",
       "        vertical-align: top;\n",
       "    }\n",
       "\n",
       "    .dataframe thead th {\n",
       "        text-align: right;\n",
       "    }\n",
       "</style>\n",
       "<table border=\"1\" class=\"dataframe\">\n",
       "  <thead>\n",
       "    <tr style=\"text-align: right;\">\n",
       "      <th></th>\n",
       "      <th>ano</th>\n",
       "      <th>data_coleta</th>\n",
       "      <th>preco_compra</th>\n",
       "      <th>preco_venda</th>\n",
       "    </tr>\n",
       "  </thead>\n",
       "  <tbody>\n",
       "    <tr>\n",
       "      <th>count</th>\n",
       "      <td>15513999.0</td>\n",
       "      <td>15513999</td>\n",
       "      <td>4904172.00</td>\n",
       "      <td>15513999.00</td>\n",
       "    </tr>\n",
       "    <tr>\n",
       "      <th>mean</th>\n",
       "      <td>2015.11</td>\n",
       "      <td>2015-07-21 16:59:53.413767424</td>\n",
       "      <td>8.65</td>\n",
       "      <td>17.01</td>\n",
       "    </tr>\n",
       "    <tr>\n",
       "      <th>min</th>\n",
       "      <td>2004.0</td>\n",
       "      <td>2004-05-10 00:00:00</td>\n",
       "      <td>0.33</td>\n",
       "      <td>0.59</td>\n",
       "    </tr>\n",
       "    <tr>\n",
       "      <th>25%</th>\n",
       "      <td>2010.0</td>\n",
       "      <td>2010-04-13 00:00:00</td>\n",
       "      <td>1.76</td>\n",
       "      <td>2.50</td>\n",
       "    </tr>\n",
       "    <tr>\n",
       "      <th>50%</th>\n",
       "      <td>2015.0</td>\n",
       "      <td>2015-07-01 00:00:00</td>\n",
       "      <td>2.28</td>\n",
       "      <td>3.89</td>\n",
       "    </tr>\n",
       "    <tr>\n",
       "      <th>75%</th>\n",
       "      <td>2021.0</td>\n",
       "      <td>2021-07-13 00:00:00</td>\n",
       "      <td>3.43</td>\n",
       "      <td>29.00</td>\n",
       "    </tr>\n",
       "    <tr>\n",
       "      <th>max</th>\n",
       "      <td>2025.0</td>\n",
       "      <td>2025-02-21 00:00:00</td>\n",
       "      <td>94.50</td>\n",
       "      <td>170.00</td>\n",
       "    </tr>\n",
       "    <tr>\n",
       "      <th>std</th>\n",
       "      <td>6.13</td>\n",
       "      <td>NaN</td>\n",
       "      <td>13.61</td>\n",
       "      <td>26.60</td>\n",
       "    </tr>\n",
       "  </tbody>\n",
       "</table>\n",
       "</div>"
      ],
      "text/plain": [
       "              ano                    data_coleta  preco_compra  preco_venda\n",
       "count  15513999.0                       15513999    4904172.00  15513999.00\n",
       "mean      2015.11  2015-07-21 16:59:53.413767424          8.65        17.01\n",
       "min        2004.0            2004-05-10 00:00:00          0.33         0.59\n",
       "25%        2010.0            2010-04-13 00:00:00          1.76         2.50\n",
       "50%        2015.0            2015-07-01 00:00:00          2.28         3.89\n",
       "75%        2021.0            2021-07-13 00:00:00          3.43        29.00\n",
       "max        2025.0            2025-02-21 00:00:00         94.50       170.00\n",
       "std          6.13                            NaN         13.61        26.60"
      ]
     },
     "execution_count": 9,
     "metadata": {},
     "output_type": "execute_result"
    }
   ],
   "source": [
    "results.describe().round(2)"
   ]
  },
  {
   "cell_type": "markdown",
   "id": "beebf212",
   "metadata": {},
   "source": [
    "# Criando novo dataframe"
   ]
  },
  {
   "cell_type": "code",
   "execution_count": 10,
   "id": "4e524e8c",
   "metadata": {},
   "outputs": [],
   "source": [
    "df_anp = results[['data_coleta','sigla_uf', 'sigla_uf_nome','id_municipio_nome','nome_estabelecimento','bandeira_revenda', 'produto','preco_venda']]"
   ]
  },
  {
   "cell_type": "code",
   "execution_count": 11,
   "id": "43cf3d18",
   "metadata": {},
   "outputs": [
    {
     "data": {
      "application/vnd.microsoft.datawrangler.viewer.v0+json": {
       "columns": [
        {
         "name": "index",
         "rawType": "int64",
         "type": "integer"
        },
        {
         "name": "data_coleta",
         "rawType": "datetime64[ns]",
         "type": "datetime"
        },
        {
         "name": "sigla_uf",
         "rawType": "object",
         "type": "string"
        },
        {
         "name": "sigla_uf_nome",
         "rawType": "object",
         "type": "string"
        },
        {
         "name": "id_municipio_nome",
         "rawType": "object",
         "type": "string"
        },
        {
         "name": "nome_estabelecimento",
         "rawType": "object",
         "type": "string"
        },
        {
         "name": "bandeira_revenda",
         "rawType": "object",
         "type": "string"
        },
        {
         "name": "produto",
         "rawType": "object",
         "type": "string"
        },
        {
         "name": "preco_venda",
         "rawType": "float64",
         "type": "float"
        }
       ],
       "conversionMethod": "pd.DataFrame",
       "ref": "4a92dc67-b615-46fd-ab46-aac8d80d34b5",
       "rows": [
        [
         "0",
         "2022-07-20 00:00:00",
         "RO",
         "Rondônia",
         "Cacoal",
         "Auto Posto Soberano Ltda",
         "Vibra Energia",
         "Gasolina Aditivada",
         "6.25"
        ],
        [
         "1",
         "2022-09-08 00:00:00",
         "RO",
         "Rondônia",
         "Cacoal",
         "Auto Posto Soberano Ltda",
         "Vibra Energia",
         "Gasolina Aditivada",
         "5.53"
        ]
       ],
       "shape": {
        "columns": 8,
        "rows": 2
       }
      },
      "text/html": [
       "<div>\n",
       "<style scoped>\n",
       "    .dataframe tbody tr th:only-of-type {\n",
       "        vertical-align: middle;\n",
       "    }\n",
       "\n",
       "    .dataframe tbody tr th {\n",
       "        vertical-align: top;\n",
       "    }\n",
       "\n",
       "    .dataframe thead th {\n",
       "        text-align: right;\n",
       "    }\n",
       "</style>\n",
       "<table border=\"1\" class=\"dataframe\">\n",
       "  <thead>\n",
       "    <tr style=\"text-align: right;\">\n",
       "      <th></th>\n",
       "      <th>data_coleta</th>\n",
       "      <th>sigla_uf</th>\n",
       "      <th>sigla_uf_nome</th>\n",
       "      <th>id_municipio_nome</th>\n",
       "      <th>nome_estabelecimento</th>\n",
       "      <th>bandeira_revenda</th>\n",
       "      <th>produto</th>\n",
       "      <th>preco_venda</th>\n",
       "    </tr>\n",
       "  </thead>\n",
       "  <tbody>\n",
       "    <tr>\n",
       "      <th>0</th>\n",
       "      <td>2022-07-20</td>\n",
       "      <td>RO</td>\n",
       "      <td>Rondônia</td>\n",
       "      <td>Cacoal</td>\n",
       "      <td>Auto Posto Soberano Ltda</td>\n",
       "      <td>Vibra Energia</td>\n",
       "      <td>Gasolina Aditivada</td>\n",
       "      <td>6.25</td>\n",
       "    </tr>\n",
       "    <tr>\n",
       "      <th>1</th>\n",
       "      <td>2022-09-08</td>\n",
       "      <td>RO</td>\n",
       "      <td>Rondônia</td>\n",
       "      <td>Cacoal</td>\n",
       "      <td>Auto Posto Soberano Ltda</td>\n",
       "      <td>Vibra Energia</td>\n",
       "      <td>Gasolina Aditivada</td>\n",
       "      <td>5.53</td>\n",
       "    </tr>\n",
       "  </tbody>\n",
       "</table>\n",
       "</div>"
      ],
      "text/plain": [
       "  data_coleta sigla_uf sigla_uf_nome id_municipio_nome  \\\n",
       "0  2022-07-20       RO      Rondônia            Cacoal   \n",
       "1  2022-09-08       RO      Rondônia            Cacoal   \n",
       "\n",
       "       nome_estabelecimento bandeira_revenda             produto  preco_venda  \n",
       "0  Auto Posto Soberano Ltda    Vibra Energia  Gasolina Aditivada         6.25  \n",
       "1  Auto Posto Soberano Ltda    Vibra Energia  Gasolina Aditivada         5.53  "
      ]
     },
     "execution_count": 11,
     "metadata": {},
     "output_type": "execute_result"
    }
   ],
   "source": [
    "df_anp.head(2)"
   ]
  },
  {
   "cell_type": "code",
   "execution_count": 12,
   "id": "4f42e520",
   "metadata": {},
   "outputs": [
    {
     "data": {
      "text/plain": [
       "array(['RO', 'AC', 'AM', 'MA', 'PA', 'TO', 'RR', 'AP', 'MG', 'RJ', 'DF',\n",
       "       'GO', 'MT', 'MS', 'SP', 'PR', 'SC', 'RS', 'ES', 'PB', 'CE', 'BA',\n",
       "       'PE', 'RN', 'PI', 'SE', 'AL'], dtype=object)"
      ]
     },
     "execution_count": 12,
     "metadata": {},
     "output_type": "execute_result"
    }
   ],
   "source": [
    "df_anp['sigla_uf'].unique()"
   ]
  },
  {
   "cell_type": "code",
   "execution_count": 13,
   "id": "4e23b258",
   "metadata": {},
   "outputs": [],
   "source": [
    "regioes = {\n",
    "    \"Norte\": ['AC', 'AP', 'AM', 'PA', 'RO', 'RR', 'TO'],\n",
    "    \"Nordeste\": ['AL', 'BA', 'CE', 'MA', 'PB', 'PE', 'PI', 'RN', 'SE'],\n",
    "    \"Centro-Oeste\": ['GO', 'MT', 'MS', 'DF'],\n",
    "    \"Sudeste\": ['ES', 'MG', 'RJ', 'SP'],\n",
    "    \"Sul\": ['PR', 'RS', 'SC']\n",
    "}"
   ]
  },
  {
   "cell_type": "code",
   "execution_count": 14,
   "id": "11b618e6",
   "metadata": {},
   "outputs": [
    {
     "name": "stderr",
     "output_type": "stream",
     "text": [
      "C:\\Users\\kelvyn.candido\\AppData\\Local\\Temp\\ipykernel_19004\\3617576226.py:8: SettingWithCopyWarning: \n",
      "A value is trying to be set on a copy of a slice from a DataFrame.\n",
      "Try using .loc[row_indexer,col_indexer] = value instead\n",
      "\n",
      "See the caveats in the documentation: https://pandas.pydata.org/pandas-docs/stable/user_guide/indexing.html#returning-a-view-versus-a-copy\n",
      "  df_anp['regiao'] = df_anp['sigla_uf'].apply(get_regiao)\n"
     ]
    },
    {
     "data": {
      "application/vnd.microsoft.datawrangler.viewer.v0+json": {
       "columns": [
        {
         "name": "index",
         "rawType": "int64",
         "type": "integer"
        },
        {
         "name": "data_coleta",
         "rawType": "datetime64[ns]",
         "type": "datetime"
        },
        {
         "name": "sigla_uf",
         "rawType": "object",
         "type": "string"
        },
        {
         "name": "sigla_uf_nome",
         "rawType": "object",
         "type": "string"
        },
        {
         "name": "id_municipio_nome",
         "rawType": "object",
         "type": "string"
        },
        {
         "name": "nome_estabelecimento",
         "rawType": "object",
         "type": "string"
        },
        {
         "name": "bandeira_revenda",
         "rawType": "object",
         "type": "string"
        },
        {
         "name": "produto",
         "rawType": "object",
         "type": "string"
        },
        {
         "name": "preco_venda",
         "rawType": "float64",
         "type": "float"
        },
        {
         "name": "regiao",
         "rawType": "object",
         "type": "string"
        }
       ],
       "conversionMethod": "pd.DataFrame",
       "ref": "02ef66d5-d964-48f7-bb16-e49fc40da727",
       "rows": [
        [
         "0",
         "2022-07-20 00:00:00",
         "RO",
         "Rondônia",
         "Cacoal",
         "Auto Posto Soberano Ltda",
         "Vibra Energia",
         "Gasolina Aditivada",
         "6.25",
         "Norte"
        ],
        [
         "1",
         "2022-09-08 00:00:00",
         "RO",
         "Rondônia",
         "Cacoal",
         "Auto Posto Soberano Ltda",
         "Vibra Energia",
         "Gasolina Aditivada",
         "5.53",
         "Norte"
        ]
       ],
       "shape": {
        "columns": 9,
        "rows": 2
       }
      },
      "text/html": [
       "<div>\n",
       "<style scoped>\n",
       "    .dataframe tbody tr th:only-of-type {\n",
       "        vertical-align: middle;\n",
       "    }\n",
       "\n",
       "    .dataframe tbody tr th {\n",
       "        vertical-align: top;\n",
       "    }\n",
       "\n",
       "    .dataframe thead th {\n",
       "        text-align: right;\n",
       "    }\n",
       "</style>\n",
       "<table border=\"1\" class=\"dataframe\">\n",
       "  <thead>\n",
       "    <tr style=\"text-align: right;\">\n",
       "      <th></th>\n",
       "      <th>data_coleta</th>\n",
       "      <th>sigla_uf</th>\n",
       "      <th>sigla_uf_nome</th>\n",
       "      <th>id_municipio_nome</th>\n",
       "      <th>nome_estabelecimento</th>\n",
       "      <th>bandeira_revenda</th>\n",
       "      <th>produto</th>\n",
       "      <th>preco_venda</th>\n",
       "      <th>regiao</th>\n",
       "    </tr>\n",
       "  </thead>\n",
       "  <tbody>\n",
       "    <tr>\n",
       "      <th>0</th>\n",
       "      <td>2022-07-20</td>\n",
       "      <td>RO</td>\n",
       "      <td>Rondônia</td>\n",
       "      <td>Cacoal</td>\n",
       "      <td>Auto Posto Soberano Ltda</td>\n",
       "      <td>Vibra Energia</td>\n",
       "      <td>Gasolina Aditivada</td>\n",
       "      <td>6.25</td>\n",
       "      <td>Norte</td>\n",
       "    </tr>\n",
       "    <tr>\n",
       "      <th>1</th>\n",
       "      <td>2022-09-08</td>\n",
       "      <td>RO</td>\n",
       "      <td>Rondônia</td>\n",
       "      <td>Cacoal</td>\n",
       "      <td>Auto Posto Soberano Ltda</td>\n",
       "      <td>Vibra Energia</td>\n",
       "      <td>Gasolina Aditivada</td>\n",
       "      <td>5.53</td>\n",
       "      <td>Norte</td>\n",
       "    </tr>\n",
       "  </tbody>\n",
       "</table>\n",
       "</div>"
      ],
      "text/plain": [
       "  data_coleta sigla_uf sigla_uf_nome id_municipio_nome  \\\n",
       "0  2022-07-20       RO      Rondônia            Cacoal   \n",
       "1  2022-09-08       RO      Rondônia            Cacoal   \n",
       "\n",
       "       nome_estabelecimento bandeira_revenda             produto  preco_venda  \\\n",
       "0  Auto Posto Soberano Ltda    Vibra Energia  Gasolina Aditivada         6.25   \n",
       "1  Auto Posto Soberano Ltda    Vibra Energia  Gasolina Aditivada         5.53   \n",
       "\n",
       "  regiao  \n",
       "0  Norte  \n",
       "1  Norte  "
      ]
     },
     "execution_count": 14,
     "metadata": {},
     "output_type": "execute_result"
    }
   ],
   "source": [
    "def get_regiao(sigla_uf):\n",
    "    for regiao, estados in regioes.items():\n",
    "        if sigla_uf in estados:\n",
    "            return regiao\n",
    "    return None\n",
    "\n",
    "# Adicionando a nova coluna \"regiao\" ao DataFrame existente\n",
    "df_anp['regiao'] = df_anp['sigla_uf'].apply(get_regiao)\n",
    "\n",
    "# Exibindo o DataFrame atualizado\n",
    "df_anp.head(2)"
   ]
  },
  {
   "cell_type": "code",
   "execution_count": 15,
   "id": "7204b019",
   "metadata": {},
   "outputs": [
    {
     "data": {
      "application/vnd.microsoft.datawrangler.viewer.v0+json": {
       "columns": [
        {
         "name": "index",
         "rawType": "int64",
         "type": "integer"
        },
        {
         "name": "sigla_uf",
         "rawType": "object",
         "type": "string"
        },
        {
         "name": "sigla_uf_nome",
         "rawType": "object",
         "type": "string"
        },
        {
         "name": "regiao",
         "rawType": "object",
         "type": "string"
        }
       ],
       "conversionMethod": "pd.DataFrame",
       "ref": "6ad15de0-a8fb-4611-8202-aef4acfafdf1",
       "rows": [
        [
         "0",
         "RO",
         "Rondônia",
         "Norte"
        ],
        [
         "1",
         "RO",
         "Rondônia",
         "Norte"
        ],
        [
         "2",
         "RO",
         "Rondônia",
         "Norte"
        ],
        [
         "3",
         "AC",
         "Acre",
         "Norte"
        ],
        [
         "4",
         "AC",
         "Acre",
         "Norte"
        ],
        [
         "5",
         "AC",
         "Acre",
         "Norte"
        ],
        [
         "6",
         "AC",
         "Acre",
         "Norte"
        ],
        [
         "7",
         "AM",
         "Amazonas",
         "Norte"
        ],
        [
         "8",
         "AM",
         "Amazonas",
         "Norte"
        ],
        [
         "9",
         "AM",
         "Amazonas",
         "Norte"
        ],
        [
         "10",
         "AM",
         "Amazonas",
         "Norte"
        ],
        [
         "11",
         "AM",
         "Amazonas",
         "Norte"
        ],
        [
         "12",
         "AM",
         "Amazonas",
         "Norte"
        ],
        [
         "13",
         "AM",
         "Amazonas",
         "Norte"
        ],
        [
         "14",
         "AM",
         "Amazonas",
         "Norte"
        ],
        [
         "15",
         "AM",
         "Amazonas",
         "Norte"
        ],
        [
         "16",
         "AM",
         "Amazonas",
         "Norte"
        ],
        [
         "17",
         "MA",
         "Maranhão",
         "Nordeste"
        ],
        [
         "18",
         "AM",
         "Amazonas",
         "Norte"
        ],
        [
         "19",
         "MA",
         "Maranhão",
         "Nordeste"
        ],
        [
         "20",
         "AM",
         "Amazonas",
         "Norte"
        ],
        [
         "21",
         "PA",
         "Pará",
         "Norte"
        ],
        [
         "22",
         "PA",
         "Pará",
         "Norte"
        ],
        [
         "23",
         "PA",
         "Pará",
         "Norte"
        ],
        [
         "24",
         "PA",
         "Pará",
         "Norte"
        ],
        [
         "25",
         "PA",
         "Pará",
         "Norte"
        ],
        [
         "26",
         "PA",
         "Pará",
         "Norte"
        ],
        [
         "27",
         "PA",
         "Pará",
         "Norte"
        ],
        [
         "28",
         "PA",
         "Pará",
         "Norte"
        ],
        [
         "29",
         "MA",
         "Maranhão",
         "Nordeste"
        ],
        [
         "30",
         "MA",
         "Maranhão",
         "Nordeste"
        ],
        [
         "31",
         "MA",
         "Maranhão",
         "Nordeste"
        ],
        [
         "32",
         "MA",
         "Maranhão",
         "Nordeste"
        ],
        [
         "33",
         "MA",
         "Maranhão",
         "Nordeste"
        ],
        [
         "34",
         "TO",
         "Tocantins",
         "Norte"
        ],
        [
         "35",
         "RR",
         "Roraima",
         "Norte"
        ],
        [
         "36",
         "AC",
         "Acre",
         "Norte"
        ],
        [
         "37",
         "AC",
         "Acre",
         "Norte"
        ],
        [
         "38",
         "AC",
         "Acre",
         "Norte"
        ],
        [
         "39",
         "AC",
         "Acre",
         "Norte"
        ],
        [
         "40",
         "AM",
         "Amazonas",
         "Norte"
        ],
        [
         "41",
         "PA",
         "Pará",
         "Norte"
        ],
        [
         "42",
         "PA",
         "Pará",
         "Norte"
        ],
        [
         "43",
         "PA",
         "Pará",
         "Norte"
        ],
        [
         "44",
         "RR",
         "Roraima",
         "Norte"
        ],
        [
         "45",
         "RR",
         "Roraima",
         "Norte"
        ],
        [
         "46",
         "RR",
         "Roraima",
         "Norte"
        ],
        [
         "47",
         "AM",
         "Amazonas",
         "Norte"
        ],
        [
         "48",
         "AM",
         "Amazonas",
         "Norte"
        ],
        [
         "49",
         "AC",
         "Acre",
         "Norte"
        ]
       ],
       "shape": {
        "columns": 3,
        "rows": 15513999
       }
      },
      "text/html": [
       "<div>\n",
       "<style scoped>\n",
       "    .dataframe tbody tr th:only-of-type {\n",
       "        vertical-align: middle;\n",
       "    }\n",
       "\n",
       "    .dataframe tbody tr th {\n",
       "        vertical-align: top;\n",
       "    }\n",
       "\n",
       "    .dataframe thead th {\n",
       "        text-align: right;\n",
       "    }\n",
       "</style>\n",
       "<table border=\"1\" class=\"dataframe\">\n",
       "  <thead>\n",
       "    <tr style=\"text-align: right;\">\n",
       "      <th></th>\n",
       "      <th>sigla_uf</th>\n",
       "      <th>sigla_uf_nome</th>\n",
       "      <th>regiao</th>\n",
       "    </tr>\n",
       "  </thead>\n",
       "  <tbody>\n",
       "    <tr>\n",
       "      <th>0</th>\n",
       "      <td>RO</td>\n",
       "      <td>Rondônia</td>\n",
       "      <td>Norte</td>\n",
       "    </tr>\n",
       "    <tr>\n",
       "      <th>1</th>\n",
       "      <td>RO</td>\n",
       "      <td>Rondônia</td>\n",
       "      <td>Norte</td>\n",
       "    </tr>\n",
       "    <tr>\n",
       "      <th>2</th>\n",
       "      <td>RO</td>\n",
       "      <td>Rondônia</td>\n",
       "      <td>Norte</td>\n",
       "    </tr>\n",
       "    <tr>\n",
       "      <th>3</th>\n",
       "      <td>AC</td>\n",
       "      <td>Acre</td>\n",
       "      <td>Norte</td>\n",
       "    </tr>\n",
       "    <tr>\n",
       "      <th>4</th>\n",
       "      <td>AC</td>\n",
       "      <td>Acre</td>\n",
       "      <td>Norte</td>\n",
       "    </tr>\n",
       "    <tr>\n",
       "      <th>...</th>\n",
       "      <td>...</td>\n",
       "      <td>...</td>\n",
       "      <td>...</td>\n",
       "    </tr>\n",
       "    <tr>\n",
       "      <th>15513994</th>\n",
       "      <td>SP</td>\n",
       "      <td>São Paulo</td>\n",
       "      <td>Sudeste</td>\n",
       "    </tr>\n",
       "    <tr>\n",
       "      <th>15513995</th>\n",
       "      <td>SP</td>\n",
       "      <td>São Paulo</td>\n",
       "      <td>Sudeste</td>\n",
       "    </tr>\n",
       "    <tr>\n",
       "      <th>15513996</th>\n",
       "      <td>SP</td>\n",
       "      <td>São Paulo</td>\n",
       "      <td>Sudeste</td>\n",
       "    </tr>\n",
       "    <tr>\n",
       "      <th>15513997</th>\n",
       "      <td>SP</td>\n",
       "      <td>São Paulo</td>\n",
       "      <td>Sudeste</td>\n",
       "    </tr>\n",
       "    <tr>\n",
       "      <th>15513998</th>\n",
       "      <td>SP</td>\n",
       "      <td>São Paulo</td>\n",
       "      <td>Sudeste</td>\n",
       "    </tr>\n",
       "  </tbody>\n",
       "</table>\n",
       "<p>15513999 rows × 3 columns</p>\n",
       "</div>"
      ],
      "text/plain": [
       "         sigla_uf sigla_uf_nome   regiao\n",
       "0              RO      Rondônia    Norte\n",
       "1              RO      Rondônia    Norte\n",
       "2              RO      Rondônia    Norte\n",
       "3              AC          Acre    Norte\n",
       "4              AC          Acre    Norte\n",
       "...           ...           ...      ...\n",
       "15513994       SP     São Paulo  Sudeste\n",
       "15513995       SP     São Paulo  Sudeste\n",
       "15513996       SP     São Paulo  Sudeste\n",
       "15513997       SP     São Paulo  Sudeste\n",
       "15513998       SP     São Paulo  Sudeste\n",
       "\n",
       "[15513999 rows x 3 columns]"
      ]
     },
     "execution_count": 15,
     "metadata": {},
     "output_type": "execute_result"
    }
   ],
   "source": [
    "df_anp[['sigla_uf', 'sigla_uf_nome', 'regiao']]"
   ]
  },
  {
   "cell_type": "code",
   "execution_count": 16,
   "id": "9fffd100",
   "metadata": {},
   "outputs": [
    {
     "data": {
      "text/plain": [
       "(15513999, 9)"
      ]
     },
     "execution_count": 16,
     "metadata": {},
     "output_type": "execute_result"
    }
   ],
   "source": [
    "df_anp.shape"
   ]
  },
  {
   "cell_type": "code",
   "execution_count": 17,
   "id": "8b3835e1",
   "metadata": {},
   "outputs": [
    {
     "name": "stdout",
     "output_type": "stream",
     "text": [
      "['Rondônia' 'Acre' 'Amazonas' 'Maranhão' 'Pará' 'Tocantins' 'Roraima'\n",
      " 'Amapá' 'Minas Gerais' 'Rio de Janeiro' 'Distrito Federal' 'Goiás'\n",
      " 'Mato Grosso' 'Mato Grosso do Sul' 'São Paulo' 'Paraná' 'Santa Catarina'\n",
      " 'Rio Grande do Sul' 'Espírito Santo' 'Paraíba' 'Ceará' 'Bahia'\n",
      " 'Pernambuco' 'Rio Grande do Norte' 'Piauí' 'Sergipe' 'Alagoas']\n"
     ]
    }
   ],
   "source": [
    "print(df_anp['sigla_uf_nome'].unique())"
   ]
  },
  {
   "cell_type": "code",
   "execution_count": 18,
   "id": "45693618",
   "metadata": {},
   "outputs": [
    {
     "name": "stderr",
     "output_type": "stream",
     "text": [
      "C:\\Users\\kelvyn.candido\\AppData\\Local\\Temp\\ipykernel_19004\\350225762.py:1: SettingWithCopyWarning: \n",
      "A value is trying to be set on a copy of a slice from a DataFrame.\n",
      "Try using .loc[row_indexer,col_indexer] = value instead\n",
      "\n",
      "See the caveats in the documentation: https://pandas.pydata.org/pandas-docs/stable/user_guide/indexing.html#returning-a-view-versus-a-copy\n",
      "  df_anp['ano']= df_anp['data_coleta'].dt.year\n",
      "C:\\Users\\kelvyn.candido\\AppData\\Local\\Temp\\ipykernel_19004\\350225762.py:2: SettingWithCopyWarning: \n",
      "A value is trying to be set on a copy of a slice from a DataFrame.\n",
      "Try using .loc[row_indexer,col_indexer] = value instead\n",
      "\n",
      "See the caveats in the documentation: https://pandas.pydata.org/pandas-docs/stable/user_guide/indexing.html#returning-a-view-versus-a-copy\n",
      "  df_anp['mes']= df_anp['data_coleta'].dt.month\n"
     ]
    }
   ],
   "source": [
    "df_anp['ano']= df_anp['data_coleta'].dt.year\n",
    "df_anp['mes']= df_anp['data_coleta'].dt.month"
   ]
  },
  {
   "cell_type": "markdown",
   "id": "c1ad78b0",
   "metadata": {},
   "source": [
    "# Estatística Basica"
   ]
  },
  {
   "cell_type": "code",
   "execution_count": 19,
   "id": "533cf781",
   "metadata": {},
   "outputs": [
    {
     "name": "stdout",
     "output_type": "stream",
     "text": [
      "                         data_coleta  preco_venda         ano         mes\n",
      "count                       15513999   15513999.0  15513999.0  15513999.0\n",
      "mean   2015-07-21 16:59:53.413767424         17.0      2015.0         6.0\n",
      "min              2004-05-10 00:00:00          1.0      2004.0         1.0\n",
      "25%              2010-04-13 00:00:00          2.0      2010.0         3.0\n",
      "50%              2015-07-01 00:00:00          4.0      2015.0         6.0\n",
      "75%              2021-07-13 00:00:00         29.0      2021.0         8.0\n",
      "max              2025-02-21 00:00:00        170.0      2025.0        12.0\n",
      "std                              NaN         27.0         6.0         3.0\n"
     ]
    }
   ],
   "source": [
    "print(df_anp.describe().round(0))"
   ]
  },
  {
   "cell_type": "markdown",
   "id": "863d7c8a",
   "metadata": {},
   "source": [
    "# Gerando insigths dos dados"
   ]
  },
  {
   "cell_type": "code",
   "execution_count": 20,
   "id": "e5ab3079",
   "metadata": {},
   "outputs": [
    {
     "name": "stdout",
     "output_type": "stream",
     "text": [
      "os produtos comercializados são: ['Diesel', 'Diesel S10', 'Diesel S50', 'Etanol', 'Gasolina', 'Gasolina Aditivada', 'Glp', 'Gnv']\n"
     ]
    }
   ],
   "source": [
    "print(f'os produtos comercializados são: {sorted(df_anp[\"produto\"].unique())}') # Valores unicos"
   ]
  },
  {
   "cell_type": "code",
   "execution_count": 21,
   "id": "64d1effc",
   "metadata": {},
   "outputs": [
    {
     "name": "stdout",
     "output_type": "stream",
     "text": [
      "Quais anos estão nessa base: [2004, 2005, 2006, 2007, 2008, 2009, 2010, 2011, 2012, 2013, 2014, 2015, 2016, 2017, 2018, 2019, 2020, 2021, 2022, 2023, 2024, 2025]\n"
     ]
    }
   ],
   "source": [
    "print(f'Quais anos estão nessa base: {sorted((map(int ,df_anp[\"ano\"].unique())))}') # Valores unicos"
   ]
  },
  {
   "cell_type": "markdown",
   "id": "ca77448c",
   "metadata": {},
   "source": [
    "# Descobrindo os valores mínimos, maximo e medios dos produtos por ano"
   ]
  },
  {
   "cell_type": "code",
   "execution_count": 22,
   "id": "4ae497fb",
   "metadata": {},
   "outputs": [],
   "source": [
    "df_anp_valor = df_anp[['ano','produto','preco_venda']]"
   ]
  },
  {
   "cell_type": "code",
   "execution_count": 23,
   "id": "7c350eea",
   "metadata": {},
   "outputs": [
    {
     "data": {
      "application/vnd.microsoft.datawrangler.viewer.v0+json": {
       "columns": [
        {
         "name": "('produto', 'ano')",
         "rawType": "object",
         "type": "unknown"
        },
        {
         "name": "('preco_venda', 'min')",
         "rawType": "float64",
         "type": "float"
        },
        {
         "name": "('preco_venda', 'max')",
         "rawType": "float64",
         "type": "float"
        },
        {
         "name": "('preco_venda', 'mean')",
         "rawType": "float64",
         "type": "float"
        }
       ],
       "conversionMethod": "pd.DataFrame",
       "ref": "a351d3e6-e71a-4887-b931-f4577257251a",
       "rows": [
        [
         "('Diesel', np.int32(2004))",
         "1.15",
         "2.05",
         "1.44"
        ],
        [
         "('Diesel', np.int32(2005))",
         "1.46",
         "2.37",
         "1.69"
        ],
        [
         "('Diesel', np.int32(2006))",
         "1.59",
         "2.7",
         "1.89"
        ],
        [
         "('Diesel', np.int32(2007))",
         "1.65",
         "2.58",
         "1.88"
        ],
        [
         "('Diesel', np.int32(2008))",
         "1.67",
         "2.75",
         "1.97"
        ],
        [
         "('Diesel', np.int32(2009))",
         "1.03",
         "2.89",
         "2.02"
        ],
        [
         "('Diesel', np.int32(2010))",
         "1.7",
         "2.83",
         "2.0"
        ],
        [
         "('Diesel', np.int32(2011))",
         "1.7",
         "2.81",
         "2.03"
        ],
        [
         "('Diesel', np.int32(2012))",
         "1.7",
         "2.95",
         "2.07"
        ],
        [
         "('Diesel', np.int32(2013))",
         "1.87",
         "3.06",
         "2.29"
        ],
        [
         "('Diesel', np.int32(2014))",
         "2.13",
         "3.31",
         "2.5"
        ],
        [
         "('Diesel', np.int32(2015))",
         "2.13",
         "3.74",
         "2.73"
        ],
        [
         "('Diesel', np.int32(2016))",
         "2.46",
         "3.98",
         "3.01"
        ],
        [
         "('Diesel', np.int32(2017))",
         "2.39",
         "4.47",
         "3.1"
        ],
        [
         "('Diesel', np.int32(2018))",
         "2.8",
         "4.49",
         "3.4"
        ],
        [
         "('Diesel', np.int32(2019))",
         "2.87",
         "4.99",
         "3.61"
        ],
        [
         "('Diesel', np.int32(2020))",
         "2.45",
         "5.09",
         "3.42"
        ],
        [
         "('Diesel', np.int32(2021))",
         "3.2",
         "6.99",
         "4.82"
        ],
        [
         "('Diesel', np.int32(2022))",
         "3.14",
         "9.0",
         "6.63"
        ],
        [
         "('Diesel', np.int32(2023))",
         "3.97",
         "7.99",
         "5.76"
        ],
        [
         "('Diesel', np.int32(2024))",
         "4.69",
         "8.19",
         "5.97"
        ],
        [
         "('Diesel', np.int32(2025))",
         "5.45",
         "8.19",
         "6.26"
        ],
        [
         "('Diesel S10', np.int32(2013))",
         "1.99",
         "3.15",
         "2.43"
        ],
        [
         "('Diesel S10', np.int32(2014))",
         "2.2",
         "3.4",
         "2.65"
        ],
        [
         "('Diesel S10', np.int32(2015))",
         "2.1",
         "3.75",
         "2.89"
        ],
        [
         "('Diesel S10', np.int32(2016))",
         "2.65",
         "4.25",
         "3.15"
        ],
        [
         "('Diesel S10', np.int32(2017))",
         "2.45",
         "4.53",
         "3.22"
        ],
        [
         "('Diesel S10', np.int32(2018))",
         "2.9",
         "4.77",
         "3.49"
        ],
        [
         "('Diesel S10', np.int32(2019))",
         "2.98",
         "5.09",
         "3.7"
        ],
        [
         "('Diesel S10', np.int32(2020))",
         "2.46",
         "5.38",
         "3.51"
        ],
        [
         "('Diesel S10', np.int32(2021))",
         "3.2",
         "6.96",
         "4.86"
        ],
        [
         "('Diesel S10', np.int32(2022))",
         "3.59",
         "9.65",
         "6.73"
        ],
        [
         "('Diesel S10', np.int32(2023))",
         "4.19",
         "9.0",
         "5.86"
        ],
        [
         "('Diesel S10', np.int32(2024))",
         "4.99",
         "8.99",
         "6.03"
        ],
        [
         "('Diesel S10', np.int32(2025))",
         "5.19",
         "8.99",
         "6.31"
        ],
        [
         "('Diesel S50', np.int32(2012))",
         "1.7",
         "2.7",
         "2.14"
        ],
        [
         "('Etanol', np.int32(2004))",
         "0.59",
         "2.4",
         "1.11"
        ],
        [
         "('Etanol', np.int32(2005))",
         "0.82",
         "2.38",
         "1.42"
        ],
        [
         "('Etanol', np.int32(2006))",
         "1.08",
         "3.15",
         "1.88"
        ],
        [
         "('Etanol', np.int32(2007))",
         "1.0",
         "2.8",
         "1.66"
        ],
        [
         "('Etanol', np.int32(2008))",
         "0.89",
         "2.8",
         "1.57"
        ],
        [
         "('Etanol', np.int32(2009))",
         "0.87",
         "2.99",
         "1.65"
        ],
        [
         "('Etanol', np.int32(2010))",
         "0.99",
         "2.84",
         "1.75"
        ],
        [
         "('Etanol', np.int32(2011))",
         "1.4",
         "3.1",
         "2.1"
        ],
        [
         "('Etanol', np.int32(2012))",
         "1.3",
         "3.12",
         "2.11"
        ],
        [
         "('Etanol', np.int32(2013))",
         "1.26",
         "3.16",
         "2.15"
        ],
        [
         "('Etanol', np.int32(2014))",
         "1.5",
         "3.2",
         "2.22"
        ],
        [
         "('Etanol', np.int32(2015))",
         "1.47",
         "3.61",
         "2.31"
        ],
        [
         "('Etanol', np.int32(2016))",
         "1.79",
         "4.03",
         "2.81"
        ],
        [
         "('Etanol', np.int32(2017))",
         "1.7",
         "4.49",
         "2.9"
        ]
       ],
       "shape": {
        "columns": 3,
        "rows": 130
       }
      },
      "text/html": [
       "<div>\n",
       "<style scoped>\n",
       "    .dataframe tbody tr th:only-of-type {\n",
       "        vertical-align: middle;\n",
       "    }\n",
       "\n",
       "    .dataframe tbody tr th {\n",
       "        vertical-align: top;\n",
       "    }\n",
       "\n",
       "    .dataframe thead tr th {\n",
       "        text-align: left;\n",
       "    }\n",
       "\n",
       "    .dataframe thead tr:last-of-type th {\n",
       "        text-align: right;\n",
       "    }\n",
       "</style>\n",
       "<table border=\"1\" class=\"dataframe\">\n",
       "  <thead>\n",
       "    <tr>\n",
       "      <th></th>\n",
       "      <th></th>\n",
       "      <th colspan=\"3\" halign=\"left\">preco_venda</th>\n",
       "    </tr>\n",
       "    <tr>\n",
       "      <th></th>\n",
       "      <th></th>\n",
       "      <th>min</th>\n",
       "      <th>max</th>\n",
       "      <th>mean</th>\n",
       "    </tr>\n",
       "    <tr>\n",
       "      <th>produto</th>\n",
       "      <th>ano</th>\n",
       "      <th></th>\n",
       "      <th></th>\n",
       "      <th></th>\n",
       "    </tr>\n",
       "  </thead>\n",
       "  <tbody>\n",
       "    <tr>\n",
       "      <th rowspan=\"5\" valign=\"top\">Diesel</th>\n",
       "      <th>2004</th>\n",
       "      <td>1.15</td>\n",
       "      <td>2.05</td>\n",
       "      <td>1.44</td>\n",
       "    </tr>\n",
       "    <tr>\n",
       "      <th>2005</th>\n",
       "      <td>1.46</td>\n",
       "      <td>2.37</td>\n",
       "      <td>1.69</td>\n",
       "    </tr>\n",
       "    <tr>\n",
       "      <th>2006</th>\n",
       "      <td>1.59</td>\n",
       "      <td>2.70</td>\n",
       "      <td>1.89</td>\n",
       "    </tr>\n",
       "    <tr>\n",
       "      <th>2007</th>\n",
       "      <td>1.65</td>\n",
       "      <td>2.58</td>\n",
       "      <td>1.88</td>\n",
       "    </tr>\n",
       "    <tr>\n",
       "      <th>2008</th>\n",
       "      <td>1.67</td>\n",
       "      <td>2.75</td>\n",
       "      <td>1.97</td>\n",
       "    </tr>\n",
       "    <tr>\n",
       "      <th>...</th>\n",
       "      <th>...</th>\n",
       "      <td>...</td>\n",
       "      <td>...</td>\n",
       "      <td>...</td>\n",
       "    </tr>\n",
       "    <tr>\n",
       "      <th rowspan=\"5\" valign=\"top\">Gnv</th>\n",
       "      <th>2021</th>\n",
       "      <td>2.38</td>\n",
       "      <td>6.70</td>\n",
       "      <td>4.03</td>\n",
       "    </tr>\n",
       "    <tr>\n",
       "      <th>2022</th>\n",
       "      <td>3.17</td>\n",
       "      <td>7.99</td>\n",
       "      <td>5.04</td>\n",
       "    </tr>\n",
       "    <tr>\n",
       "      <th>2023</th>\n",
       "      <td>2.39</td>\n",
       "      <td>6.71</td>\n",
       "      <td>4.64</td>\n",
       "    </tr>\n",
       "    <tr>\n",
       "      <th>2024</th>\n",
       "      <td>3.54</td>\n",
       "      <td>6.89</td>\n",
       "      <td>4.77</td>\n",
       "    </tr>\n",
       "    <tr>\n",
       "      <th>2025</th>\n",
       "      <td>3.79</td>\n",
       "      <td>6.49</td>\n",
       "      <td>4.81</td>\n",
       "    </tr>\n",
       "  </tbody>\n",
       "</table>\n",
       "<p>130 rows × 3 columns</p>\n",
       "</div>"
      ],
      "text/plain": [
       "             preco_venda            \n",
       "                     min   max  mean\n",
       "produto ano                         \n",
       "Diesel  2004        1.15  2.05  1.44\n",
       "        2005        1.46  2.37  1.69\n",
       "        2006        1.59  2.70  1.89\n",
       "        2007        1.65  2.58  1.88\n",
       "        2008        1.67  2.75  1.97\n",
       "...                  ...   ...   ...\n",
       "Gnv     2021        2.38  6.70  4.03\n",
       "        2022        3.17  7.99  5.04\n",
       "        2023        2.39  6.71  4.64\n",
       "        2024        3.54  6.89  4.77\n",
       "        2025        3.79  6.49  4.81\n",
       "\n",
       "[130 rows x 3 columns]"
      ]
     },
     "execution_count": 23,
     "metadata": {},
     "output_type": "execute_result"
    }
   ],
   "source": [
    "df_anp_valor.groupby(['produto','ano']).agg(['min','max','mean']).round(2)"
   ]
  },
  {
   "cell_type": "code",
   "execution_count": 24,
   "id": "eac95524",
   "metadata": {},
   "outputs": [
    {
     "data": {
      "image/png": "[encoded data removed]",
      "text/plain": [
       "<Figure size 1000x600 with 1 Axes>"
      ]
     },
     "metadata": {},
     "output_type": "display_data"
    }
   ],
   "source": [
    "df_agg = df_anp_valor.groupby(['produto', 'ano']).agg(['min', 'max', 'mean']).round(2)\n",
    "\n",
    "# Filtrando apenas os dados do produto \"gasolina\"\n",
    "df_gasolina = df_agg.loc['Gasolina']  # Seleciona apenas a linha onde o produto é gasolina\n",
    "\n",
    "# Criando o gráfico de linhas para os preços médios ao longo dos anos\n",
    "plt.figure(figsize=(10, 6))\n",
    "plt.plot(df_gasolina.index, df_gasolina[('preco_venda', 'mean')], marker='o', label='Preço Médio')\n",
    "\n",
    "# Adicionando os valores em cada ponto do gráfico\n",
    "for x, y in zip(df_gasolina.index, df_gasolina[('preco_venda', 'mean')]):\n",
    "    plt.text(x, y, f'{y:.2f}', fontsize=9, ha='center', va='bottom')\n",
    "\n",
    "# Adicionando título e rótulos\n",
    "plt.title('Variação de Preços da Gasolina ao Longo dos Anos', fontsize=14)\n",
    "plt.xlabel('Ano', fontsize=12)\n",
    "plt.ylabel('Preço Médio (R$)', fontsize=12)\n",
    "plt.grid(True, linestyle='--', alpha=0.6)\n",
    "plt.legend()\n",
    "plt.xticks(df_gasolina.index, rotation=45)  # Rotaciona os anos no eixo X para melhor visualização\n",
    "\n",
    "# Exibindo o gráfico\n",
    "plt.tight_layout()\n",
    "plt.show()"
   ]
  }
 ],
 "metadata": {
  "kernelspec": {
   "display_name": "Python 3",
   "language": "python",
   "name": "python3"
  },
  "language_info": {
   "codemirror_mode": {
    "name": "ipython",
    "version": 3
   },
   "file_extension": ".py",
   "mimetype": "text/x-python",
   "name": "python",
   "nbconvert_exporter": "python",
   "pygments_lexer": "ipython3",
   "version": "3.13.2"
  }
 },
 "nbformat": 4,
 "nbformat_minor": 5
}
