{
 "cells": [
  {
   "cell_type": "code",
   "execution_count": 1,
   "id": "b8aaff6a",
   "metadata": {},
   "outputs": [],
   "source": [
    "from google.cloud import bigquery\n",
    "from google.oauth2 import service_account\n",
    "\n",
    "# Caminho para o arquivo JSON da conta de serviço\n",
    "key_path = r\"C:\\BIGQUERY_KEY_PATH\\rock-tower-454219-t2-f2eeba73d76a.json\"\n",
    "# Definir o escopo de acesso\n",
    "scopes = ['https://www.googleapis.com/auth/cloud-platform']\n",
    "\n",
    "\n",
    "# Carregar as credenciais\n",
    "credentials = service_account.Credentials.from_service_account_file(key_path)\n",
    "\n",
    "# Criar o cliente BigQuery\n",
    "client = bigquery.Client(project='rock-tower-454219-t2', credentials=credentials)"
   ]
  },
  {
   "cell_type": "code",
   "execution_count": null,
   "id": "0ea43e44",
   "metadata": {},
   "outputs": [],
   "source": [
    "job = client.get_job('bquxjob_508ab77d_1961c25c639d')  # Substitua pelo ID do seu job\n",
    "results = job.to_dataframe()"
   ]
  }
 ],
 "metadata": {
  "kernelspec": {
   "display_name": "Python 3",
   "language": "python",
   "name": "python3"
  },
  "language_info": {
   "codemirror_mode": {
    "name": "ipython",
    "version": 3
   },
   "file_extension": ".py",
   "mimetype": "text/x-python",
   "name": "python",
   "nbconvert_exporter": "python",
   "pygments_lexer": "ipython3",
   "version": "3.13.2"
  }
 },
 "nbformat": 4,
 "nbformat_minor": 5
}
